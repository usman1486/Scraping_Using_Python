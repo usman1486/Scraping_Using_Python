{
 "cells": [
  {
   "cell_type": "code",
   "execution_count": 1,
   "id": "d1ce5db4",
   "metadata": {},
   "outputs": [],
   "source": [
    "#pip install pandas\n",
    "import pandas as pd\n",
    "import requests\n",
    "from bs4 import BeautifulSoup"
   ]
  },
  {
   "cell_type": "code",
   "execution_count": 2,
   "id": "bc88a001",
   "metadata": {},
   "outputs": [],
   "source": [
    "df=pd.read_csv(\"C:/Users/usman/Desktop/pics/img.csv\")"
   ]
  },
  {
   "cell_type": "code",
   "execution_count": 3,
   "id": "4cb0285e",
   "metadata": {},
   "outputs": [
    {
     "data": {
      "text/html": [
       "<div>\n",
       "<style scoped>\n",
       "    .dataframe tbody tr th:only-of-type {\n",
       "        vertical-align: middle;\n",
       "    }\n",
       "\n",
       "    .dataframe tbody tr th {\n",
       "        vertical-align: top;\n",
       "    }\n",
       "\n",
       "    .dataframe thead th {\n",
       "        text-align: right;\n",
       "    }\n",
       "</style>\n",
       "<table border=\"1\" class=\"dataframe\">\n",
       "  <thead>\n",
       "    <tr style=\"text-align: right;\">\n",
       "      <th></th>\n",
       "      <th>LotNum</th>\n",
       "      <th>Unnamed: 1</th>\n",
       "      <th>Links</th>\n",
       "      <th>Status</th>\n",
       "      <th>Title</th>\n",
       "      <th>StartPrice</th>\n",
       "      <th>Description</th>\n",
       "    </tr>\n",
       "  </thead>\n",
       "  <tbody>\n",
       "    <tr>\n",
       "      <th>0</th>\n",
       "      <td>100</td>\n",
       "      <td>100_</td>\n",
       "      <td>https://theswstyle.com/products/native-america...</td>\n",
       "      <td>Done</td>\n",
       "      <td>Native American 12mm Sterling Silver Navajo Pe...</td>\n",
       "      <td>$150.00 USD</td>\n",
       "      <td>Fab 12mm Navajo pearls sterling silver hand ma...</td>\n",
       "    </tr>\n",
       "    <tr>\n",
       "      <th>1</th>\n",
       "      <td>101</td>\n",
       "      <td>101_</td>\n",
       "      <td>https://theswstyle.com/products/navajo-a-cadma...</td>\n",
       "      <td>Done</td>\n",
       "      <td>Navajo A Cadman &amp; Kaizen Cuff Bracelet Black J...</td>\n",
       "      <td>$495.00 USD</td>\n",
       "      <td>For your consideration is this phenomenal Nava...</td>\n",
       "    </tr>\n",
       "    <tr>\n",
       "      <th>2</th>\n",
       "      <td>102</td>\n",
       "      <td>102_</td>\n",
       "      <td>https://theswstyle.com/products/navajo-carinat...</td>\n",
       "      <td>Done</td>\n",
       "      <td>Navajo Carinated Hand Stamped Ingot Double Sid...</td>\n",
       "      <td>$195.00 USD</td>\n",
       "      <td>Phenomenal, heavy gauge sterling silver Native...</td>\n",
       "    </tr>\n",
       "    <tr>\n",
       "      <th>3</th>\n",
       "      <td>103</td>\n",
       "      <td>103_</td>\n",
       "      <td>https://theswstyle.com/products/navajo-kingman...</td>\n",
       "      <td>Done</td>\n",
       "      <td>Navajo Kingman Mine Turquoise Heishi Necklace ...</td>\n",
       "      <td>$245.00 USD</td>\n",
       "      <td>This phenomenal Navajo heishi necklace is hand...</td>\n",
       "    </tr>\n",
       "    <tr>\n",
       "      <th>4</th>\n",
       "      <td>104</td>\n",
       "      <td>104_</td>\n",
       "      <td>https://theswstyle.com/products/navajo-kingman...</td>\n",
       "      <td>Done</td>\n",
       "      <td>Navajo Kingman Turquoise Cluster Cuff Bracelet...</td>\n",
       "      <td>$499.00 USD</td>\n",
       "      <td>For your consideration is this stunning Navajo...</td>\n",
       "    </tr>\n",
       "    <tr>\n",
       "      <th>...</th>\n",
       "      <td>...</td>\n",
       "      <td>...</td>\n",
       "      <td>...</td>\n",
       "      <td>...</td>\n",
       "      <td>...</td>\n",
       "      <td>...</td>\n",
       "      <td>...</td>\n",
       "    </tr>\n",
       "    <tr>\n",
       "      <th>445</th>\n",
       "      <td>545</td>\n",
       "      <td>545_</td>\n",
       "      <td>https://theswstyle.com/products/zuni-snake-dan...</td>\n",
       "      <td>NaN</td>\n",
       "      <td>Zuni Snake Dangle Earrings Effie Calavaza Slee...</td>\n",
       "      <td>$115.00 USD</td>\n",
       "      <td>Fab pair of classic Zuni sterling silver and S...</td>\n",
       "    </tr>\n",
       "    <tr>\n",
       "      <th>446</th>\n",
       "      <td>546</td>\n",
       "      <td>546_</td>\n",
       "      <td>https://theswstyle.com/products/zuni-snake-eye...</td>\n",
       "      <td>NaN</td>\n",
       "      <td>Zuni Snake Eye Coral Ring Size 8 Sterling Silv...</td>\n",
       "      <td>$155.00 USD</td>\n",
       "      <td>Stunning Zuni sterling silver and Mediterranea...</td>\n",
       "    </tr>\n",
       "    <tr>\n",
       "      <th>447</th>\n",
       "      <td>547</td>\n",
       "      <td>547_</td>\n",
       "      <td>https://theswstyle.com/products/zuni-snake-eye...</td>\n",
       "      <td>NaN</td>\n",
       "      <td>Zuni Snake Eye Turquoise Cuff Bracelet Sterlin...</td>\n",
       "      <td>$225.00 USD</td>\n",
       "      <td>Traditional Native American Zuni hand etched c...</td>\n",
       "    </tr>\n",
       "    <tr>\n",
       "      <th>448</th>\n",
       "      <td>548</td>\n",
       "      <td>548_</td>\n",
       "      <td>https://theswstyle.com/products/zuni-snake-eye...</td>\n",
       "      <td>NaN</td>\n",
       "      <td>Zuni Snake Eye Turquoise Dangle Earrings Sterl...</td>\n",
       "      <td>$60.00 USD</td>\n",
       "      <td>Wonderful small Zuni sterling silver and snake...</td>\n",
       "    </tr>\n",
       "    <tr>\n",
       "      <th>449</th>\n",
       "      <td>549</td>\n",
       "      <td>549_</td>\n",
       "      <td>https://theswstyle.com/products/zuni-snake-eye...</td>\n",
       "      <td>NaN</td>\n",
       "      <td>Zuni Snake Eye Turquoise Post Stud Earrings St...</td>\n",
       "      <td>$165.00 USD</td>\n",
       "      <td>Stunning Zuni sterling silver and snake eye Sl...</td>\n",
       "    </tr>\n",
       "  </tbody>\n",
       "</table>\n",
       "<p>450 rows × 7 columns</p>\n",
       "</div>"
      ],
      "text/plain": [
       "     LotNum Unnamed: 1                                              Links   \n",
       "0       100       100_  https://theswstyle.com/products/native-america...  \\\n",
       "1       101       101_  https://theswstyle.com/products/navajo-a-cadma...   \n",
       "2       102       102_  https://theswstyle.com/products/navajo-carinat...   \n",
       "3       103       103_  https://theswstyle.com/products/navajo-kingman...   \n",
       "4       104       104_  https://theswstyle.com/products/navajo-kingman...   \n",
       "..      ...        ...                                                ...   \n",
       "445     545       545_  https://theswstyle.com/products/zuni-snake-dan...   \n",
       "446     546       546_  https://theswstyle.com/products/zuni-snake-eye...   \n",
       "447     547       547_  https://theswstyle.com/products/zuni-snake-eye...   \n",
       "448     548       548_  https://theswstyle.com/products/zuni-snake-eye...   \n",
       "449     549       549_  https://theswstyle.com/products/zuni-snake-eye...   \n",
       "\n",
       "    Status                                              Title   StartPrice   \n",
       "0     Done  Native American 12mm Sterling Silver Navajo Pe...  $150.00 USD  \\\n",
       "1     Done  Navajo A Cadman & Kaizen Cuff Bracelet Black J...  $495.00 USD   \n",
       "2     Done  Navajo Carinated Hand Stamped Ingot Double Sid...  $195.00 USD   \n",
       "3     Done  Navajo Kingman Mine Turquoise Heishi Necklace ...  $245.00 USD   \n",
       "4     Done  Navajo Kingman Turquoise Cluster Cuff Bracelet...  $499.00 USD   \n",
       "..     ...                                                ...          ...   \n",
       "445    NaN  Zuni Snake Dangle Earrings Effie Calavaza Slee...  $115.00 USD   \n",
       "446    NaN  Zuni Snake Eye Coral Ring Size 8 Sterling Silv...  $155.00 USD   \n",
       "447    NaN  Zuni Snake Eye Turquoise Cuff Bracelet Sterlin...  $225.00 USD   \n",
       "448    NaN  Zuni Snake Eye Turquoise Dangle Earrings Sterl...   $60.00 USD   \n",
       "449    NaN  Zuni Snake Eye Turquoise Post Stud Earrings St...  $165.00 USD   \n",
       "\n",
       "                                           Description  \n",
       "0    Fab 12mm Navajo pearls sterling silver hand ma...  \n",
       "1    For your consideration is this phenomenal Nava...  \n",
       "2    Phenomenal, heavy gauge sterling silver Native...  \n",
       "3    This phenomenal Navajo heishi necklace is hand...  \n",
       "4    For your consideration is this stunning Navajo...  \n",
       "..                                                 ...  \n",
       "445  Fab pair of classic Zuni sterling silver and S...  \n",
       "446  Stunning Zuni sterling silver and Mediterranea...  \n",
       "447  Traditional Native American Zuni hand etched c...  \n",
       "448  Wonderful small Zuni sterling silver and snake...  \n",
       "449  Stunning Zuni sterling silver and snake eye Sl...  \n",
       "\n",
       "[450 rows x 7 columns]"
      ]
     },
     "execution_count": 3,
     "metadata": {},
     "output_type": "execute_result"
    }
   ],
   "source": [
    "df"
   ]
  },
  {
   "cell_type": "code",
   "execution_count": 4,
   "id": "5373df1b",
   "metadata": {},
   "outputs": [],
   "source": [
    "links=df['Links']"
   ]
  },
  {
   "cell_type": "code",
   "execution_count": 6,
   "id": "5aad36bd",
   "metadata": {},
   "outputs": [],
   "source": [
    "#for i in links:\n",
    "   # print(i)"
   ]
  },
  {
   "cell_type": "code",
   "execution_count": 9,
   "id": "269ea4fa",
   "metadata": {},
   "outputs": [],
   "source": [
    "r='https://theswstyle.com/products/navajo-kingman-turquoise-lariat-necklace-sterling-silver-native-american-signed'\n",
    "res=requests.get(r)"
   ]
  },
  {
   "cell_type": "code",
   "execution_count": 10,
   "id": "73079100",
   "metadata": {},
   "outputs": [],
   "source": [
    "code=BeautifulSoup(res.content,'html.parser')"
   ]
  },
  {
   "cell_type": "code",
   "execution_count": 11,
   "id": "d90661a7",
   "metadata": {},
   "outputs": [],
   "source": [
    "pic_url=code.find_all('button',{'class':'thumbnail global-media-settings global-media-settings--no-shadow thumbnail--narrow'})"
   ]
  },
  {
   "cell_type": "code",
   "execution_count": 13,
   "id": "32598639",
   "metadata": {},
   "outputs": [
    {
     "data": {
      "text/plain": [
       "'//cdn.shopify.com/s/files/1/1539/5475/products/navajo-kingman-turquoise-lariat-necklace-sterling-silver-native-american-signed-jewelry-700.jpg?v=1664920846&width=59 59w'"
      ]
     },
     "execution_count": 13,
     "metadata": {},
     "output_type": "execute_result"
    }
   ],
   "source": [
    "pic_url[0].find('img')['srcset'].split(',')[0]"
   ]
  },
  {
   "cell_type": "code",
   "execution_count": 27,
   "id": "60f3d55a",
   "metadata": {
    "scrolled": true
   },
   "outputs": [],
   "source": [
    "final_link=[]\n",
    "for i in range(len(pic_url)):\n",
    "    final_link.append(\"https:\"+pic_url[i].find('img')['srcset'].split(',')[0])\n",
    "    \n",
    "    "
   ]
  },
  {
   "cell_type": "code",
   "execution_count": 30,
   "id": "3539e4cb",
   "metadata": {},
   "outputs": [
    {
     "name": "stdout",
     "output_type": "stream",
     "text": [
      "https://cdn.shopify.com/s/files/1/1539/5475/products/navajo-kingman-turquoise-lariat-necklace-sterling-silver-native-american-signed-jewelry-700.jpg?v=1664920846&width=59 59w\n",
      "https://cdn.shopify.com/s/files/1/1539/5475/products/navajo-kingman-turquoise-lariat-necklace-sterling-silver-native-american-signed-jewelry-717.jpg?v=1664920852&width=59 59w\n",
      "https://cdn.shopify.com/s/files/1/1539/5475/products/navajo-kingman-turquoise-lariat-necklace-sterling-silver-native-american-signed-jewelry-247.jpg?v=1664920857&width=59 59w\n",
      "https://cdn.shopify.com/s/files/1/1539/5475/products/navajo-kingman-turquoise-lariat-necklace-sterling-silver-native-american-signed-jewelry-374.jpg?v=1664920861&width=59 59w\n",
      "https://cdn.shopify.com/s/files/1/1539/5475/products/navajo-kingman-turquoise-lariat-necklace-sterling-silver-native-american-signed-jewelry-753.jpg?v=1664920865&width=59 59w\n",
      "https://cdn.shopify.com/s/files/1/1539/5475/products/navajo-kingman-turquoise-lariat-necklace-sterling-silver-native-american-signed-jewelry-639.jpg?v=1664920870&width=59 59w\n"
     ]
    }
   ],
   "source": [
    "for i in final_link:\n",
    "    print(i)"
   ]
  },
  {
   "cell_type": "code",
   "execution_count": null,
   "id": "e0fddb85",
   "metadata": {},
   "outputs": [],
   "source": []
  },
  {
   "cell_type": "code",
   "execution_count": 31,
   "id": "95e6d763",
   "metadata": {},
   "outputs": [
    {
     "data": {
      "text/plain": [
       "'C:\\\\Users\\\\usman\\\\Desktop\\\\Download'"
      ]
     },
     "execution_count": 31,
     "metadata": {},
     "output_type": "execute_result"
    }
   ],
   "source": [
    "import os\n",
    "os.getcwd()"
   ]
  },
  {
   "cell_type": "code",
   "execution_count": 32,
   "id": "785548a9",
   "metadata": {},
   "outputs": [],
   "source": [
    "os.chdir(\"C:/Users/usman/Desktop/Download\")"
   ]
  },
  {
   "cell_type": "code",
   "execution_count": 33,
   "id": "05ad9787",
   "metadata": {},
   "outputs": [
    {
     "name": "stdout",
     "output_type": "stream",
     "text": [
      "https://cdn.shopify.com/s/files/1/1539/5475/products/navajo-kingman-turquoise-lariat-necklace-sterling-silver-native-american-signed-jewelry-700.jpg?v=1664920846&width=59 59w\n",
      "https://cdn.shopify.com/s/files/1/1539/5475/products/navajo-kingman-turquoise-lariat-necklace-sterling-silver-native-american-signed-jewelry-717.jpg?v=1664920852&width=59 59w\n",
      "https://cdn.shopify.com/s/files/1/1539/5475/products/navajo-kingman-turquoise-lariat-necklace-sterling-silver-native-american-signed-jewelry-247.jpg?v=1664920857&width=59 59w\n",
      "https://cdn.shopify.com/s/files/1/1539/5475/products/navajo-kingman-turquoise-lariat-necklace-sterling-silver-native-american-signed-jewelry-374.jpg?v=1664920861&width=59 59w\n",
      "https://cdn.shopify.com/s/files/1/1539/5475/products/navajo-kingman-turquoise-lariat-necklace-sterling-silver-native-american-signed-jewelry-753.jpg?v=1664920865&width=59 59w\n",
      "https://cdn.shopify.com/s/files/1/1539/5475/products/navajo-kingman-turquoise-lariat-necklace-sterling-silver-native-american-signed-jewelry-639.jpg?v=1664920870&width=59 59w\n"
     ]
    }
   ],
   "source": [
    "for i in final_link:\n",
    "    print(i)"
   ]
  },
  {
   "cell_type": "code",
   "execution_count": 91,
   "id": "e2476541",
   "metadata": {},
   "outputs": [],
   "source": [
    "import os\n",
    "import requests\n",
    "\n",
    "folder_name = '200_'\n",
    "if not os.path.exists(folder_name):\n",
    "    os.makedirs(folder_name)\n",
    "for i, image_url in enumerate(final_link):\n",
    "    response = requests.get(image_url)\n",
    "    with open(os.path.join(folder_name, f'{folder_name}_{i}.jpg'), 'wb') as f:\n",
    "        f.write(response.content)\n",
    "\n"
   ]
  },
  {
   "cell_type": "code",
   "execution_count": null,
   "id": "034d87da",
   "metadata": {},
   "outputs": [],
   "source": [
    "# for i in links:\n",
    "res=requests.get(r)\n",
    "code=BeautifulSoup(res.content,'html.parser')\n",
    "pic_url=code.find_all('button',{'class':'thumbnail global-media-settings global-media-settings--no-shadow thumbnail--narrow'})\n",
    "final_link=[]\n",
    "for i in range(len(pic_url)):\n",
    "        final_link.append(\"https:\"+pic_url[i].find('img')['srcset'].split(',')[0])\n",
    "        folder_name = '200_'\n",
    "        if not os.path.exists(folder_name):\n",
    "            os.makedirs(folder_name)\n",
    "            for i, image_url in enumerate(final_link):\n",
    "                response = requests.get(image_url)\n",
    "                with open(os.path.join(folder_name, f'{folder_name}_{i}.jpg'), 'wb') as f:\n",
    "                    f.write(response.content)\n",
    "    "
   ]
  },
  {
   "cell_type": "code",
   "execution_count": null,
   "id": "b2d99cf6",
   "metadata": {},
   "outputs": [],
   "source": []
  }
 ],
 "metadata": {
  "kernelspec": {
   "display_name": "Python 3 (ipykernel)",
   "language": "python",
   "name": "python3"
  },
  "language_info": {
   "codemirror_mode": {
    "name": "ipython",
    "version": 3
   },
   "file_extension": ".py",
   "mimetype": "text/x-python",
   "name": "python",
   "nbconvert_exporter": "python",
   "pygments_lexer": "ipython3",
   "version": "3.11.3"
  }
 },
 "nbformat": 4,
 "nbformat_minor": 5
}
