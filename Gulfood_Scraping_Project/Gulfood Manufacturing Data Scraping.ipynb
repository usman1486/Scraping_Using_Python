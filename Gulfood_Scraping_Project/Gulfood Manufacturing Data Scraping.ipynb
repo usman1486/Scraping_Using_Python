{
 "cells": [
  {
   "cell_type": "code",
   "execution_count": 1,
   "id": "a903fabc",
   "metadata": {},
   "outputs": [],
   "source": [
    "from bs4 import BeautifulSoup\n",
    "import requests\n",
    "import re\n",
    "import time"
   ]
  },
  {
   "cell_type": "code",
   "execution_count": 2,
   "id": "b8d9f49c",
   "metadata": {},
   "outputs": [],
   "source": [
    "num=range(1,29)\n",
    "a=\"https://www.gulfoodmanufacturing.com/exhibitors-2022?\""
   ]
  },
  {
   "cell_type": "code",
   "execution_count": 3,
   "id": "b87fb4e1",
   "metadata": {},
   "outputs": [],
   "source": [
    "page_link=[]\n",
    "for i in num:\n",
    "    page_link.append(a+f'page={i}')\n",
    "    \n",
    "    "
   ]
  },
  {
   "cell_type": "code",
   "execution_count": 4,
   "id": "2718a6b3",
   "metadata": {},
   "outputs": [],
   "source": [
    "title=[]\n",
    "pop_up_links=[]\n",
    "for i in range(len(page_link)):\n",
    "    ll='https://www.gulfoodmanufacturing.com/'\n",
    "    code=requests.get(page_link[i])\n",
    "    soup=BeautifulSoup(code.content,'html.parser')\n",
    "    lis=soup.find_all('li',{'class':\"m-exhibitors-list__items__item m-exhibitors-list__items__item--status-2022exhibitors\"})\n",
    "    for i in range(len(lis)):\n",
    "        ss=lis[i].get_text().replace('\\n','')\n",
    "        title.append(re.sub(r'\\s+', ' ', ss).strip().split(\"&\")[0])\n",
    "        x=lis[i].div.a['href'][28:].split(',')[0].strip(\"'\\\"\")\n",
    "        pop_up_links.append(ll+x)\n",
    "    time.sleep(15)\n"
   ]
  },
  {
   "cell_type": "code",
   "execution_count": null,
   "id": "e0727d90",
   "metadata": {},
   "outputs": [],
   "source": [
    "website_url=[]\n",
    "for i in pop_up_links:\n",
    "    code=requests.get(i)\n",
    "    decode=BeautifulSoup(code.content,'html.parser')\n",
    "    cls=decode.find_all('div',{'class':'m-exhibitor-entry__item__body__contacts__additional__website'})\n",
    "    if len(cls)>0:\n",
    "        website_url.append(cls[0].a['href'])\n",
    "    else:\n",
    "        website_url.append(\"Website Url Not Present!\")\n",
    "time.sleep(3)"
   ]
  },
  {
   "cell_type": "code",
   "execution_count": null,
   "id": "5df474d3",
   "metadata": {},
   "outputs": [],
   "source": [
    "import os"
   ]
  },
  {
   "cell_type": "code",
   "execution_count": null,
   "id": "6c8d301e",
   "metadata": {},
   "outputs": [],
   "source": [
    "os.chdir(\"C:/Users/usman/OneDrive/Desktop/dubts\")"
   ]
  },
  {
   "cell_type": "code",
   "execution_count": null,
   "id": "ff11f7b4",
   "metadata": {},
   "outputs": [],
   "source": [
    "import openpyxl\n",
    "\n",
    "def create_excel_file(title, box_links,website_url):\n",
    "    workbook = openpyxl.Workbook()\n",
    "    sheet = workbook.active\n",
    "    sheet.cell(row=1, column=1).value = 'Exhibitor Name'\n",
    "    sheet.cell(row=1, column=2).value = 'Box Model Link'\n",
    "    sheet.cell(row=1, column=3).value = 'Official Website'\n",
    "    sheet.cell(row=1, column=4).value = 'Email'\n",
    "\n",
    "    for index, (title, url,web_url) in enumerate(zip(title, box_links,website_url), start=2):\n",
    "        sheet.cell(row=index, column=1).value = title\n",
    "        sheet.cell(row=index, column=2).value = url\n",
    "        sheet.cell(row=index, column=3).value = web_url\n",
    "\n",
    "    workbook.save('data.xlsx')\n",
    "\n",
    "\n"
   ]
  },
  {
   "cell_type": "code",
   "execution_count": null,
   "id": "c539506f",
   "metadata": {},
   "outputs": [],
   "source": [
    "#Function Call\n",
    "\n",
    "create_excel_file(title,pop_up_links,website_url)"
   ]
  },
  {
   "cell_type": "code",
   "execution_count": null,
   "id": "c8865925",
   "metadata": {},
   "outputs": [],
   "source": []
  }
 ],
 "metadata": {
  "kernelspec": {
   "display_name": "Python 3 (ipykernel)",
   "language": "python",
   "name": "python3"
  },
  "language_info": {
   "codemirror_mode": {
    "name": "ipython",
    "version": 3
   },
   "file_extension": ".py",
   "mimetype": "text/x-python",
   "name": "python",
   "nbconvert_exporter": "python",
   "pygments_lexer": "ipython3",
   "version": "3.11.3"
  }
 },
 "nbformat": 4,
 "nbformat_minor": 5
}
