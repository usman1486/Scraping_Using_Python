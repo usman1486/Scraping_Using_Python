{
 "cells": [
  {
   "cell_type": "code",
   "execution_count": null,
   "id": "0216e21c",
   "metadata": {},
   "outputs": [],
   "source": [
    "import pandas as pd"
   ]
  },
  {
   "cell_type": "code",
   "execution_count": null,
   "id": "cf636a50",
   "metadata": {},
   "outputs": [],
   "source": [
    "df=pd.read_excel(\"C:/Users/usman/OneDrive/Desktop/dubts/emails.xlsx\")"
   ]
  },
  {
   "cell_type": "code",
   "execution_count": null,
   "id": "1198088b",
   "metadata": {},
   "outputs": [],
   "source": [
    "web_links=df['Website Link']"
   ]
  },
  {
   "cell_type": "code",
   "execution_count": null,
   "id": "3bccc847",
   "metadata": {},
   "outputs": [],
   "source": [
    "import requests\n",
    "from bs4 import BeautifulSoup\n",
    "import re\n",
    "import openpyxl\n",
    "\n",
    "def scrape_emails(website_links):\n",
    "    email_regex = r'\\b[A-Za-z0-9._%+-]+@[A-Za-z0-9.-]+\\.[A-Z|a-z]{2,}\\b'\n",
    "    email_data = []\n",
    "\n",
    "    timeout = 15  # Connection timeout in seconds\n",
    "\n",
    "    for link in website_links:\n",
    "        try:\n",
    "            response = requests.get(link, timeout=timeout)\n",
    "            soup = BeautifulSoup(response.content, 'html.parser')\n",
    "\n",
    "            main_email = re.search(email_regex, soup.text)\n",
    "            if main_email:\n",
    "                email_data.append((link, main_email.group()))\n",
    "                print(f\"Main email address found on {link}: {main_email.group()}\")\n",
    "            else:\n",
    "                email_data.append((link, 'Email not found'))\n",
    "                print(f\"No email address found on {link}\")\n",
    "        except requests.exceptions.RequestException as e:\n",
    "            email_data.append((link, 'Error retrieving website'))\n",
    "            print(f\"Error retrieving {link}: {e}\")\n",
    "        except requests.exceptions.Timeout:\n",
    "            email_data.append((link, 'Connection timeout'))\n",
    "            print(f\"Connection timeout for {link}\")\n",
    "\n",
    "    return email_data\n",
    "\n",
    "# Example usage:\n",
    "\n",
    "email_data = scrape_emails(web_links)\n",
    "\n",
    "# Create an Excel workbook and sheet\n",
    "workbook = openpyxl.Workbook()\n",
    "sheet = workbook.active\n",
    "\n",
    "# Write headers\n",
    "sheet['A1'] = 'Website Link'\n",
    "sheet['B1'] = 'Email Address'\n",
    "\n",
    "# Write email data to the sheet\n",
    "for row, data in enumerate(email_data, start=2):\n",
    "    website_link, email_address = data\n",
    "    sheet.cell(row=row, column=1, value=website_link)\n",
    "    sheet.cell(row=row, column=2, value=email_address)\n",
    "\n",
    "# Save the workbook\n",
    "workbook.save('email_data.xlsx')\n"
   ]
  }
 ],
 "metadata": {
  "kernelspec": {
   "display_name": "Python 3 (ipykernel)",
   "language": "python",
   "name": "python3"
  },
  "language_info": {
   "codemirror_mode": {
    "name": "ipython",
    "version": 3
   },
   "file_extension": ".py",
   "mimetype": "text/x-python",
   "name": "python",
   "nbconvert_exporter": "python",
   "pygments_lexer": "ipython3",
   "version": "3.11.3"
  }
 },
 "nbformat": 4,
 "nbformat_minor": 5
}
